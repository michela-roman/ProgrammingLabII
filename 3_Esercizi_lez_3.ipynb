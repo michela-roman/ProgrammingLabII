{
 "cells": [
  {
   "cell_type": "markdown",
   "metadata": {},
   "source": [
    "### **1.Consumo di alcol per paese** \n",
    "Esegui un’**analisi esplorativa** focalizzata sul **consumo di alcol**.  \n",
    "Analizza i seguenti aspetti:\n",
    "* Visualizza i primi 10 paesi ordinati per total_litres_of_pure_alcohol (dal più alto)\n",
    "\n",
    "* Calcola la media del consumo di birra, vino, e distillati\n",
    "\n",
    "* Crea una nuova colonna alcohol_index che sia: `(beer_servings + wine_servings + spirit_servings) / 3`\n",
    "\n",
    "* Trova il paese con il valore massimo di alcohol_index\n",
    "\n",
    "* Filtra solo i paesi che consumano più di 100 birre all’anno\n",
    "\n",
    "Crea un bar chart dei 10 paesi con più consumo totale (total_litres_of_pure_alcohol)\n",
    "\n",
    "Crea un line plot con wine_servings ordinato per paese (usa sort_values)"
   ]
  },
  {
   "cell_type": "code",
   "execution_count": null,
   "metadata": {},
   "outputs": [],
   "source": [
    "import pandas as pd\n",
    "\n",
    "df = pd.read_csv(\"https://raw.githubusercontent.com/fivethirtyeight/data/master/alcohol-consumption/drinks.csv\")\n",
    "print(df)"
   ]
  },
  {
   "cell_type": "code",
   "execution_count": null,
   "metadata": {},
   "outputs": [],
   "source": [
    "dieci_maggiori = df.sort_values(\"total_litres_of_pure_alcohol\", ascending = False, inplace = False).head(10)\n",
    "print(dieci_maggiori)"
   ]
  },
  {
   "cell_type": "code",
   "execution_count": null,
   "metadata": {},
   "outputs": [],
   "source": [
    "media_birra = df[\"beer_servings\"].mean(axis=0)\n",
    "media_vino = df[\"wine_servings\"].mean(axis=0)\n",
    "media_distillati = df[\"spirit_servings\"].mean(axis=0)\n",
    "print(media_birra, media_vino, media_distillati)\n",
    "\n",
    "# oppure\n",
    "df_means = df[[\"beer_servings\", \"wine_servings\", \"spirit_servings\"]].mean(axis=0)\n",
    "print(df_means)"
   ]
  },
  {
   "cell_type": "code",
   "execution_count": null,
   "metadata": {},
   "outputs": [],
   "source": [
    "df[\"alcohol_index\"] = (df.beer_servings + df.wine_servings + df.spirit_servings) / 3\n",
    "print(df.alcohol_index)"
   ]
  },
  {
   "cell_type": "code",
   "execution_count": null,
   "metadata": {},
   "outputs": [],
   "source": [
    "print(df.country[df['alcohol_index'].idxmax()])\n",
    "\n",
    "# oppure\n",
    "print(df.sort_values('alcohol_index', ascending = False).head(1).country)\n",
    "\n",
    "# oppure\n",
    "print(df[df['alcohol_index'] == df['alcohol_index'].max()].country)"
   ]
  },
  {
   "cell_type": "code",
   "execution_count": null,
   "metadata": {},
   "outputs": [],
   "source": [
    "df[df['beer_servings'] > 100]"
   ]
  },
  {
   "cell_type": "code",
   "execution_count": null,
   "metadata": {},
   "outputs": [],
   "source": [
    "import matplotlib.pyplot as plt\n",
    "\n",
    "plt.bar(dieci_maggiori['country'], dieci_maggiori['total_litres_of_pure_alcohol'])\n",
    "plt.xticks(rotation = 45, ha = 'right')\n",
    "plt.show()"
   ]
  },
  {
   "cell_type": "code",
   "execution_count": null,
   "metadata": {},
   "outputs": [],
   "source": [
    "import numpy as np\n",
    "ticks = np.array(df['country'].head(10), dtype = str)\n",
    "\n",
    "df.sort_values('country')\n",
    "df.head(10).plot(kind = 'line', y = 'wine_servings', x = 'country')\n",
    "plt.xticks(rotation=45, ticks = range(10), labels = ticks)\n",
    "plt.show()"
   ]
  },
  {
   "cell_type": "markdown",
   "metadata": {},
   "source": [
    "### **2.Analisi offerte di lavoro** \n",
    "\n",
    "Esegui un’**analisi esplorativa** focalizzata sui **lavori nel campo dei dati in ciascun paese**.  \n",
    "Analizza i seguenti aspetti per ogni paese:\n",
    "\n",
    "* Lo **stipendio medio annuale** (`salary_year_avg`)\n",
    "* Il **numero totale di offerte di lavoro** (job count)\n",
    "* L’intervallo degli stipendi: **valore minimo e massimo** (`min` / `max`)\n",
    "\n",
    "Rappresenta graficamente lo stipendio medio (`salary_year_avg`) per `job_title_short` usando un grafico a barre orizzontali. Ordina i dati dallo stipendio più alto al più basso. Includi un titolo e le etichette per gli assi x e y."
   ]
  },
  {
   "cell_type": "code",
   "execution_count": null,
   "metadata": {},
   "outputs": [],
   "source": [
    "%pip install datasets"
   ]
  },
  {
   "cell_type": "code",
   "execution_count": null,
   "metadata": {},
   "outputs": [],
   "source": [
    "import pandas as pd\n",
    "from datasets import load_dataset\n",
    "\n",
    "dataset = load_dataset('lukebarousse/data_jobs')\n",
    "df = dataset['train'].to_pandas()\n",
    "\n",
    "df['job_posted_date'] = pd.to_datetime(df['job_posted_date'])\n",
    "print(df)"
   ]
  },
  {
   "cell_type": "code",
   "execution_count": null,
   "metadata": {},
   "outputs": [],
   "source": [
    "stipendio_medio_annuale = df.groupby('job_country')['salary_year_avg'].mean()\n",
    "print(stipendio_medio_annuale)"
   ]
  },
  {
   "cell_type": "code",
   "execution_count": null,
   "metadata": {},
   "outputs": [],
   "source": [
    "numero_offerte = df['job_country'].value_counts()\n",
    "print(numero_offerte)\n",
    "\n",
    "# oppure\n",
    "numero_offerte = df.groupby('job_country').size()"
   ]
  },
  {
   "cell_type": "code",
   "execution_count": null,
   "metadata": {},
   "outputs": [],
   "source": [
    "intervalli_stipendi = df.groupby('job_country')['salary_year_avg'].agg(['min', 'max'])\n",
    "print(intervalli_stipendi)"
   ]
  },
  {
   "cell_type": "code",
   "execution_count": null,
   "metadata": {},
   "outputs": [],
   "source": [
    "import matplotlib.pyplot as plt\n",
    "\n",
    "media_stipendi_lavori = df.groupby('job_title_short')['salary_year_avg'].mean().sort_values(ascending=False)\n",
    "media_stipendi_lavori.plot(kind='barh', color='blue')\n",
    "plt.xlabel('Stipendio medio annuo')\n",
    "plt.ylabel('Titolo di lavoro')\n",
    "plt.title('Stipendi medi')\n",
    "plt.show()"
   ]
  }
 ],
 "metadata": {
  "kernelspec": {
   "display_name": "base",
   "language": "python",
   "name": "python3"
  },
  "language_info": {
   "codemirror_mode": {
    "name": "ipython",
    "version": 3
   },
   "file_extension": ".py",
   "mimetype": "text/x-python",
   "name": "python",
   "nbconvert_exporter": "python",
   "pygments_lexer": "ipython3",
   "version": "3.12.7"
  }
 },
 "nbformat": 4,
 "nbformat_minor": 2
}
