{
 "cells": [
  {
   "cell_type": "markdown",
   "metadata": {},
   "source": [
    "### **1. Trasformare cicli in list comprehension**\n",
    "\n",
    "Fai tre esempi di cicli producono una lista e poi riscrivi lo stesso codice usando la list comprehension"
   ]
  },
  {
   "cell_type": "code",
   "execution_count": 4,
   "metadata": {},
   "outputs": [
    {
     "name": "stdout",
     "output_type": "stream",
     "text": [
      "[0, 1, 2, 3, 4, 5, 6, 7, 8, 9]\n",
      "[0, 1, 2, 3, 4, 5, 6, 7, 8, 9]\n"
     ]
    }
   ],
   "source": [
    "# 1. Lista contenente numeri da 0 a 9\n",
    "# Ciclo: \n",
    "lista = []\n",
    "for i in range(10):\n",
    "    lista.append(i)\n",
    "\n",
    "# List comprehension\n",
    "listaC = [i for i in range(10)]\n",
    "\n",
    "print(lista)\n",
    "print(listaC)"
   ]
  },
  {
   "cell_type": "code",
   "execution_count": 5,
   "metadata": {},
   "outputs": [
    {
     "name": "stdout",
     "output_type": "stream",
     "text": [
      "[0, 6, 12, 18, 24]\n",
      "[0, 6, 12, 18, 24]\n"
     ]
    }
   ],
   "source": [
    "# 2. Lista contenente i primi 5 multipli pari di 3\n",
    "# Ciclo:\n",
    "pari = []\n",
    "cont = 0\n",
    "i = 0\n",
    "while cont < 5:\n",
    "    if i % 2 == 0 and i % 3 == 0:\n",
    "        pari.append(i)\n",
    "        cont += 1\n",
    "    i += 1\n",
    "\n",
    "# List comprehension:\n",
    "pariC = [i for i in range(100) if i % 2 == 0 and i % 3 == 0][:5]\n",
    "\n",
    "print(pari)\n",
    "print(pariC)"
   ]
  },
  {
   "cell_type": "code",
   "execution_count": null,
   "metadata": {},
   "outputs": [
    {
     "name": "stdout",
     "output_type": "stream",
     "text": [
      "['albero', 'matita', 'bottiglia']\n",
      "['albero', 'matita', 'bottiglia']\n"
     ]
    }
   ],
   "source": [
    "# 3. Lista contenente le parole della lista elenco che hanno più di cinque lettere\n",
    "# Ciclo:\n",
    "elenco = [\"albero\", \"casa\", \"matita\", \"bottiglia\", \"ape\"]\n",
    "lista = []\n",
    "for elemento in elenco:\n",
    "    if len(elemento) > 5:\n",
    "        lista.append(elemento)\n",
    "\n",
    "# List comprehension:\n",
    "listaC = [elemento for elemento in elenco if len(elemento) > 5]\n",
    "\n",
    "print(lista)\n",
    "print(listaC)\n"
   ]
  },
  {
   "cell_type": "markdown",
   "metadata": {},
   "source": []
  },
  {
   "cell_type": "markdown",
   "metadata": {},
   "source": [
    "### **2. Vettore di Numeri Primi**\n",
    "\n",
    "1. **Crea un vettore** contenente tutti i numeri primi compresi tra **0 e 10**  \n",
    "   _(Puoi scriverli direttamente nell'array)._\n",
    "\n",
    "2. **Conta quanti numeri ci sono nel vettore** utilizzando la funzione `len()`.  **Ottieni lo stesso numero** accedendo all'attributo `.size` del vettore.\n",
    "\n",
    "3. Quale pensi sia il tipo di dato (`dtype`) del vettore?  Prova a rispondere senza eseguire il codice e Verifica la tua risposta accedendo all'attributo `.dtype` del vettore\n",
    "\n",
    "4. Scrivi l'array usando una list comprehension che controlla che i numeri siano primi. "
   ]
  },
  {
   "cell_type": "code",
   "execution_count": null,
   "metadata": {},
   "outputs": [],
   "source": []
  },
  {
   "cell_type": "markdown",
   "metadata": {},
   "source": [
    "### **3.  Operazioni su array**\n",
    "Crea un array **a**, 1D (senza digitarlo esplicitamente), e genera due nuovi array **b**, contenente una sottostringa a piacere e **c** che è il reverse dell'array **a** (esempio [1,2,3] diventa [3,2,1]) .  Dividi l'array **a** per l'array **c**. Fai la stessa cosa per una lista."
   ]
  },
  {
   "cell_type": "code",
   "execution_count": null,
   "metadata": {},
   "outputs": [],
   "source": []
  }
 ],
 "metadata": {
  "kernelspec": {
   "display_name": "base",
   "language": "python",
   "name": "python3"
  },
  "language_info": {
   "codemirror_mode": {
    "name": "ipython",
    "version": 3
   },
   "file_extension": ".py",
   "mimetype": "text/x-python",
   "name": "python",
   "nbconvert_exporter": "python",
   "pygments_lexer": "ipython3",
   "version": "3.12.7"
  }
 },
 "nbformat": 4,
 "nbformat_minor": 2
}
